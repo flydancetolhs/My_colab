{
  "nbformat": 4,
  "nbformat_minor": 0,
  "metadata": {
    "colab": {
      "name": "1110408-Assignment Operatiors in python.ipynb-iphone接力",
      "provenance": [],
      "authorship_tag": "ABX9TyOtMSeiyKWhJyVffJY57E88",
      "include_colab_link": true
    },
    "kernelspec": {
      "name": "python3",
      "display_name": "Python 3"
    },
    "language_info": {
      "name": "python"
    }
  },
  "cells": [
    {
      "cell_type": "markdown",
      "metadata": {
        "id": "view-in-github",
        "colab_type": "text"
      },
      "source": [
        "<a href=\"https://colab.research.google.com/github/flydancetolhs/My_colab/blob/main/Operatiors/1110408_Assignment_Operatiors_in_python_ipynb_iphone%E6%8E%A5%E5%8A%9B.ipynb\" target=\"_parent\"><img src=\"https://colab.research.google.com/assets/colab-badge.svg\" alt=\"Open In Colab\"/></a>"
      ]
    },
    {
      "cell_type": "code",
      "execution_count": null,
      "metadata": {
        "colab": {
          "base_uri": "https://localhost:8080/"
        },
        "id": "aTgTh1NI7Bb5",
        "outputId": "73b7b687-9430-414c-e426-89edcece8c72"
      },
      "outputs": [
        {
          "output_type": "stream",
          "name": "stdout",
          "text": [
            "x + y = 19\n",
            "x - y = 11\n",
            "x * y = 60\n",
            "x / y = 3.75\n",
            "x // y = 3\n",
            "x ** y = 50625\n"
          ]
        }
      ],
      "source": [
        "x = 15\n",
        "y = 4\n",
        "\n",
        "# Output: x + y = 19\n",
        "print('x + y =',x+y)\n",
        "\n",
        "# Output: x - y = 11\n",
        "print('x - y =',x-y)\n",
        "\n",
        "# Output: x * y = 60\n",
        "print('x * y =',x*y)\n",
        "\n",
        "# Output: x / y = 3.75\n",
        "print('x / y =',x/y)\n",
        "\n",
        "# Output: x // y = 3\n",
        "print('x // y =',x//y)\n",
        "\n",
        "# Output: x ** y = 50625\n",
        "print('x ** y =',x**y)"
      ]
    },
    {
      "cell_type": "markdown",
      "source": [
        "#TEST:How to modeify the context\n",
        "##refer from https://www.youtube.com/watch?v=kye8Xo_1hfQ"
      ],
      "metadata": {
        "id": "dEg9XgjQAo7H"
      }
    }
  ]
}